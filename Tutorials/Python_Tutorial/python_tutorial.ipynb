{
 "cells": [
  {
   "cell_type": "markdown",
   "metadata": {},
   "source": [
    "# Python Tutorial: Intro to Matplotlib\n",
    "\n",
    "Wednesday May 13th, 2020.\n",
    "\n",
    "This tutorial aims at introducing participant to basic functionalities of the Python's librairy **Matplotlib**. The turorial is divided in four parts: basic plots, plot attributes, subplots and plotting the *iris dataset*."
   ]
  },
  {
   "cell_type": "markdown",
   "metadata": {},
   "source": [
    "## General Setup\n",
    "We are using Python3"
   ]
  },
  {
   "cell_type": "code",
   "execution_count": null,
   "metadata": {},
   "outputs": [],
   "source": [
    "import sys\n",
    "print(\"Python version :\", sys.version)"
   ]
  },
  {
   "cell_type": "markdown",
   "metadata": {},
   "source": [
    "Import the **Matplotlib** library and check the version"
   ]
  },
  {
   "cell_type": "code",
   "execution_count": null,
   "metadata": {},
   "outputs": [],
   "source": [
    "import matplotlib as mpl\n",
    "import matplotlib.pyplot as plt"
   ]
  },
  {
   "cell_type": "code",
   "execution_count": null,
   "metadata": {},
   "outputs": [],
   "source": [
    "print (\"Matplotlib version :\", mtb.__version__)"
   ]
  },
  {
   "cell_type": "markdown",
   "metadata": {},
   "source": [
    "To test various plots and plot attributes, we will be using synthetic datasets. In order to generate them, we need to import some librairies"
   ]
  },
  {
   "cell_type": "code",
   "execution_count": null,
   "metadata": {},
   "outputs": [],
   "source": [
    "import numpy as np\n",
    "import random"
   ]
  },
  {
   "cell_type": "markdown",
   "metadata": {},
   "source": [
    "## Basic Plots"
   ]
  },
  {
   "cell_type": "markdown",
   "metadata": {},
   "source": [
    "### Line Plot\n",
    "Ressource: https://matplotlib.org/3.2.1/api/_as_gen/matplotlib.pyplot.plot.html\n",
    "\n",
    "Line plots are usefull when we want to visualize $y = f(x)$ functions.\n",
    "\n",
    "Let's use $\\sin$ and $\\cos$ functions for our examples."
   ]
  },
  {
   "cell_type": "code",
   "execution_count": null,
   "metadata": {},
   "outputs": [],
   "source": [
    "## Numpy arange (start, end, jump)\n",
    "x_line = np.arange(0, 15, 0.1)\n",
    "\n",
    "y_sin = np.sin(x_line)\n",
    "y_cos = np.cos(x_line)"
   ]
  },
  {
   "cell_type": "markdown",
   "metadata": {},
   "source": [
    "We can easily draw lines using the ```plot``` function: ```plt.plot(x, y, args**)```"
   ]
  },
  {
   "cell_type": "markdown",
   "metadata": {},
   "source": [
    "To display a plot without saving it to a file, we can use the ```show``` function: ```plt.show()```"
   ]
  },
  {
   "cell_type": "code",
   "execution_count": null,
   "metadata": {},
   "outputs": [],
   "source": [
    "## Plot the sin function\n"
   ]
  },
  {
   "cell_type": "markdown",
   "metadata": {},
   "source": [
    "Let's generate two new datasets"
   ]
  },
  {
   "cell_type": "code",
   "execution_count": null,
   "metadata": {},
   "outputs": [],
   "source": [
    "y_sin_shift = [i+2 for i in y_sin]\n",
    "y_cos_shift = [i+2 for i in y_cos]"
   ]
  },
  {
   "cell_type": "markdown",
   "metadata": {},
   "source": [
    "When plotting line graphs, we can specify various **line types** with the argument ```ls```.\n",
    "\n",
    "The main **line types** are:\n",
    "1. Solid ______\n",
    "2. Dashed -----\n",
    "3. Dashdot -.-.-.-\n",
    "4. Dot ......\n",
    "\n",
    "The **line width** can also be modified using the ```lw``` argument."
   ]
  },
  {
   "cell_type": "code",
   "execution_count": null,
   "metadata": {},
   "outputs": [],
   "source": [
    "## Plot the sin gunction with solid linestyle (ls)\n",
    "plt.plot(x_line, y_sin)\n",
    "\n",
    "## Plot the cos gunction with dashed linestyle \n",
    "plt.plot(x_line, y_cos)\n",
    "\n",
    "## Plot the cos gunction with dashdot linestyle \n",
    "plt.plot(x_line, y_sin_shift)\n",
    "\n",
    "## Plot the cos gunction with dot linestyle \n",
    "plt.plot(x_line, y_cos_shift)\n",
    "plt.show()"
   ]
  },
  {
   "cell_type": "markdown",
   "metadata": {},
   "source": [
    "We can also define a specific ```marker``` to illustrate are linked datapoints."
   ]
  },
  {
   "cell_type": "code",
   "execution_count": null,
   "metadata": {},
   "outputs": [],
   "source": [
    "x = range(10)\n",
    "y = np.random.normal(0, 10, 10)\n",
    "\n",
    "## Plot the x-y relationship and identify the datapoint with 'o'\n"
   ]
  },
  {
   "cell_type": "markdown",
   "metadata": {},
   "source": [
    "### Scatter plot\n",
    "Ressource: https://matplotlib.org/3.2.1/api/_as_gen/matplotlib.pyplot.plot.html\n",
    "\n",
    "There are two ways to draw scatter plots:\n",
    "1. using the ```plot``` function (faster when markers are identical in size and color) -> ```plt.plot(x, y, 'o', args**)```\n",
    "2. using the ```scatter```function -> ```plt.scatter(x, y, args**)```"
   ]
  },
  {
   "cell_type": "markdown",
   "metadata": {},
   "source": [
    "We will be using three randomly generated gaussian datasets"
   ]
  },
  {
   "cell_type": "code",
   "execution_count": null,
   "metadata": {},
   "outputs": [],
   "source": [
    "N = 150\n",
    "\n",
    "x_scatter = [np.random.normal(0, 2, N), np.random.normal(5, 2, N), np.random.normal(10, 2, N)]\n",
    "y_scatter = [np.random.normal(4, 5, N), np.random.normal(0, 2, N), np.random.normal(8, 2, N)]"
   ]
  },
  {
   "cell_type": "markdown",
   "metadata": {},
   "source": [
    "Let's first try with the ```plot```function...\n",
    "\n",
    "Remember what is the format of our $x$ and $y$ data!"
   ]
  },
  {
   "cell_type": "code",
   "execution_count": null,
   "metadata": {},
   "outputs": [],
   "source": [
    "## Plot the three datasets as scatter plots\n"
   ]
  },
  {
   "cell_type": "markdown",
   "metadata": {},
   "source": [
    "Now, let's try with the ```scatter```function"
   ]
  },
  {
   "cell_type": "code",
   "execution_count": null,
   "metadata": {},
   "outputs": [],
   "source": [
    "## Plot the three datasets as scatter plots\n"
   ]
  },
  {
   "cell_type": "markdown",
   "metadata": {},
   "source": [
    "Fundamentally, ```scatter``` works with 1-D arrays; $x$ and $y$ may be input as 2-D arrays, but they will be flattened. This is why we are loosing our three distinct datasets. To draw the various datasets as distinct instances within the same plot, we could use a ```for```loop. Each dataset will be assign a default color."
   ]
  },
  {
   "cell_type": "markdown",
   "metadata": {},
   "source": [
    "We can use the ```alpha``` parameter to play with our marker transparency, which is useful when plotting a lot of overlapping points."
   ]
  },
  {
   "cell_type": "code",
   "execution_count": null,
   "metadata": {},
   "outputs": [],
   "source": [
    "## Plot the three datasets as distinct scatter plots\n"
   ]
  },
  {
   "cell_type": "markdown",
   "metadata": {},
   "source": [
    "The default marker is ```o``` but there exist many more options."
   ]
  },
  {
   "cell_type": "code",
   "execution_count": null,
   "metadata": {},
   "outputs": [],
   "source": [
    "filled_markers = ['o', 'v', '^', '<', '>', '8', 's', 'p', '*', 'h', 'H', 'D', 'd', 'P', 'X']"
   ]
  },
  {
   "cell_type": "markdown",
   "metadata": {},
   "source": [
    "To change the marker style of a scatter plot, we must specificy the ```marker``` argument. We can also specify the marker size with the ```s``` argument."
   ]
  },
  {
   "cell_type": "code",
   "execution_count": null,
   "metadata": {},
   "outputs": [],
   "source": [
    "x_marker = range(len(filled_markers))\n",
    "y_marker = x_marker\n",
    "\n",
    "## Plot the marker datapoints with different marker \n",
    "for i in x_marker :\n",
    "    plt.scatter(x_marker[i], y_marker[i])"
   ]
  },
  {
   "cell_type": "markdown",
   "metadata": {},
   "source": [
    "### Histogram\n",
    "Ressource: https://matplotlib.org/3.1.1/api/_as_gen/matplotlib.pyplot.hist.html\n",
    "\n",
    "We can plot the histogram of $x$ using the ```hist```function."
   ]
  },
  {
   "cell_type": "markdown",
   "metadata": {},
   "source": [
    "Let's generate a dataset of 5 randomly generated gaussian distributions."
   ]
  },
  {
   "cell_type": "code",
   "execution_count": null,
   "metadata": {},
   "outputs": [],
   "source": [
    "M = 250\n",
    "\n",
    "mu = [0, 4, 6, 10, 15]\n",
    "sigma = [4, 2, 1, 5, 3]\n",
    "\n",
    "norm_dist = [np.random.normal(mu[i], sigma[i], M) for i in range(len(mu))]"
   ]
  },
  {
   "cell_type": "markdown",
   "metadata": {},
   "source": [
    "Multiple data can be provided via x as a list of datasets of potentially different length, or as a 2-D ndarray in which each column is a dataset.\n",
    "\n",
    "The default ```histtype``` is set to ```bar```. "
   ]
  },
  {
   "cell_type": "code",
   "execution_count": null,
   "metadata": {},
   "outputs": [],
   "source": [
    "## Plot the histograms of the various distributions\n"
   ]
  },
  {
   "cell_type": "markdown",
   "metadata": {},
   "source": [
    "In our case, we would like to see the distributions, and the ```bar``` representation might not be appropriate. We can try to plot individual histograms using a ```for```loop."
   ]
  },
  {
   "cell_type": "code",
   "execution_count": null,
   "metadata": {},
   "outputs": [],
   "source": [
    "## Plot the histograms of the various distribution\n"
   ]
  },
  {
   "cell_type": "markdown",
   "metadata": {},
   "source": [
    "The results is more of what we expect but it is not quite there yet: we want the various histograms to share the same bins. To do so, we can define the ```histtype``` to be either ```barstacked``` or ```stepfilled```.\n",
    "\n",
    "We can also specify that we want the density distrbution, rather than the number of occurrence, by setting the ```density``` argument to ```True``` (by default it is set to ```False```)"
   ]
  },
  {
   "cell_type": "code",
   "execution_count": null,
   "metadata": {},
   "outputs": [],
   "source": [
    "## Plot de histograms of the distrbution using barstacked or stepfilled\n",
    "plt.hist(norm_dist)\n",
    "plt.show()"
   ]
  },
  {
   "cell_type": "markdown",
   "metadata": {},
   "source": [
    "It can also be useful to define the bins number, using the ```bins``` argument."
   ]
  },
  {
   "cell_type": "code",
   "execution_count": null,
   "metadata": {},
   "outputs": [],
   "source": [
    "## Change the number of bins to 50\n",
    "plt.hist(norm_dist)\n",
    "plt.show()"
   ]
  },
  {
   "cell_type": "markdown",
   "metadata": {},
   "source": [
    "## Plot Attributes"
   ]
  },
  {
   "cell_type": "markdown",
   "metadata": {},
   "source": [
    "### Axis labels and plot title"
   ]
  },
  {
   "cell_type": "markdown",
   "metadata": {},
   "source": [
    "We can add a title and axis labels to our plot by using the ```title```, ```xlabel``` and ```ylabel``` functions. They all take as input a string and optional arguments (eg. font size and color).\n",
    "\n",
    "We ca integrate LaTEX notation with ```$...$``` and some variable values with ```%d```, ```%s``` and ```%f```.\n",
    "* ```'$K=3$, $n_{k}=150$' ``` -> $K=3$, $n_{k}=150$\n",
    "* ```'There are %d points' % (len(x_scatter[0]))```-> There are 150 points"
   ]
  },
  {
   "cell_type": "code",
   "execution_count": null,
   "metadata": {},
   "outputs": [],
   "source": [
    "for i in range(len(x_scatter)) :\n",
    "    plt.scatter(x_scatter[i], y_scatter[i], marker=filled_markers[i*3], alpha=0.7)\n",
    "\n",
    "## Add a title to our plot\n",
    "\n",
    "\n",
    "## Add axis labels to our plot\n",
    "\n",
    "\n",
    "plt.show()"
   ]
  },
  {
   "cell_type": "markdown",
   "metadata": {},
   "source": [
    "### Plot style and colors"
   ]
  },
  {
   "cell_type": "markdown",
   "metadata": {},
   "source": [
    "It is possible to use predefined plot styles. Matplotlib has a lot of options to choose from!"
   ]
  },
  {
   "cell_type": "code",
   "execution_count": null,
   "metadata": {},
   "outputs": [],
   "source": [
    "print (plt.style.available)"
   ]
  },
  {
   "cell_type": "markdown",
   "metadata": {},
   "source": [
    "To select a style, we use the ```style.use``` function. We can also define other attributes such as font size by using the ```rc``` functions. This style and these attributes will be applied to all new plots.\n",
    "\n",
    "Ressource: https://matplotlib.org/3.1.1/api/_as_gen/matplotlib.pyplot.rc.html"
   ]
  },
  {
   "cell_type": "code",
   "execution_count": null,
   "metadata": {},
   "outputs": [],
   "source": [
    "plt.style.use('seaborn-whitegrid')\n",
    "plt.rc('font', size=15)"
   ]
  },
  {
   "cell_type": "markdown",
   "metadata": {},
   "source": [
    "Let's see what our scatter plot looks like with this new style!"
   ]
  },
  {
   "cell_type": "code",
   "execution_count": null,
   "metadata": {},
   "outputs": [],
   "source": [
    "for i in range(len(x_scatter)) :\n",
    "    plt.scatter(x_scatter[i], y_scatter[i], marker=filled_markers[i*3], alpha=0.7)\n",
    "    \n",
    "plt.title('Scatter Plot ($K=3$, $n_{k}=$%s)' % (len(x_scatter[0])))\n",
    "plt.xlabel('First Component')\n",
    "plt.ylabel('Second Component')\n",
    "\n",
    "plt.show()"
   ]
  },
  {
   "cell_type": "markdown",
   "metadata": {},
   "source": [
    "Commands which take color arguments can use several formats to specify the colors.\n",
    "\n",
    "Each style has its own cycle of color: these are the color used by default when we do not define a spectific color. If we plot more elements than there are colors in the cycle, we will have color duplicates in our plot.\n",
    "\n",
    "We can access the colors the various colors of the cycle with ```C``` followed by a digit: ```C0``` is the first color of our cycle. \n",
    "\n",
    "Ressources: https://matplotlib.org/2.0.2/api/colors_api.html"
   ]
  },
  {
   "cell_type": "code",
   "execution_count": null,
   "metadata": {},
   "outputs": [],
   "source": [
    "for i in range(20) :\n",
    "    plt.scatter(i, i, s=50)\n",
    "    #plt.scatter(i, i, s=50, color='C%d' % (i))\n",
    "    \n",
    "plt.show()"
   ]
  },
  {
   "cell_type": "markdown",
   "metadata": {},
   "source": [
    "We can also use the basic built-in colors and refer to them either with a single letter or their complete name: \n",
    "* ```b```: blue\n",
    "* ```g```: green\n",
    "* ```red```: red\n",
    "* ```c```: cyan\n",
    "* ```m```: magenta\n",
    "* ```y```: yellow\n",
    "* ```k```: black\n",
    "* ```w```: white"
   ]
  },
  {
   "cell_type": "code",
   "execution_count": null,
   "metadata": {},
   "outputs": [],
   "source": [
    "cl = ['b', 'g', 'r', 'c', 'm', 'y', 'k', 'w']\n",
    "\n",
    "for i in range(len(cl)) :\n",
    "    plt.scatter(i, i, s=50, color=cl[i])\n",
    "    \n",
    "plt.show()"
   ]
  },
  {
   "cell_type": "markdown",
   "metadata": {},
   "source": [
    "We can also explicitely define the color from the available color list, or with color codes.\n",
    "\n",
    "Ressources: https://matplotlib.org/2.0.0/_images/named_colors.png"
   ]
  },
  {
   "cell_type": "code",
   "execution_count": null,
   "metadata": {},
   "outputs": [],
   "source": [
    "cl = ['paleturquoise',  'mediumorchid', 'goldenrod', 'antiquewhite', '#ff800d']\n",
    "\n",
    "for i in range(len(cl)) :\n",
    "    plt.scatter(i, i, s=50, color=cl[i])\n",
    "    \n",
    "plt.show()"
   ]
  },
  {
   "cell_type": "markdown",
   "metadata": {},
   "source": [
    "### Adding horizontal and vertical lines\n",
    "\n",
    "Horizontal and vertical lines can be very informative! They can illustrate mean and median, the bounds of a confidence interval, a threshold, a reference value, etc.\n",
    "\n",
    "They are very simple to plot :D \n",
    "* ```plt.axhline(y, args**)```\n",
    "* ```plt.axvline(y, args**)```\n",
    "\n",
    "The arguments are similar to the ones used when drawing a line plot: ```ls```, ```lw```, ```color```, etc.\n",
    "\n",
    "Ressource (horizontal line): https://matplotlib.org/3.1.1/api/_as_gen/matplotlib.pyplot.axhline.html\n",
    "Ressource (vertical line): https://matplotlib.org/api/_as_gen/matplotlib.pyplot.axvline.html "
   ]
  },
  {
   "cell_type": "code",
   "execution_count": null,
   "metadata": {},
   "outputs": [],
   "source": [
    "for i in range(len(x_scatter)) :\n",
    "    plt.scatter(x_scatter[i], y_scatter[i], marker=filled_markers[i*3], alpha=0.7, color='C%d' % (i))\n",
    "    \n",
    "    ## Plot the x-mean\n",
    "    \n",
    "    \n",
    "    ## Plot the y-mean\n",
    "    \n",
    "    \n",
    "plt.title('Scatter Plot ($K=3$, $n_{k}=$%s)' % (len(x_scatter[0])))\n",
    "plt.xlabel('First Component')\n",
    "plt.ylabel('Second Component')\n",
    "\n",
    "plt.show()"
   ]
  },
  {
   "cell_type": "markdown",
   "metadata": {},
   "source": [
    "Here's an example when plotting histograms"
   ]
  },
  {
   "cell_type": "code",
   "execution_count": null,
   "metadata": {},
   "outputs": [],
   "source": [
    "plt.hist(norm_dist, bins=50, histtype='stepfilled', density=True, alpha=0.7)\n",
    "\n",
    "for i in range(len(norm_dist)) :\n",
    "    plt.axvline(np.mean(norm_dist[i]), color='C%d' % (i))\n",
    "    \n",
    "plt.title('Normal Distributions\\n($N=$%d, $n_{k}=$%d)' % (len(norm_dist), len(norm_dist[0])))\n",
    "plt.xlabel('Value')\n",
    "plt.ylabel('Density')\n",
    "    \n",
    "plt.show()"
   ]
  },
  {
   "cell_type": "markdown",
   "metadata": {},
   "source": [
    "### Labels and Legend\n",
    "Ressource: https://matplotlib.org/3.1.1/api/_as_gen/matplotlib.pyplot.legend.html"
   ]
  },
  {
   "cell_type": "code",
   "execution_count": null,
   "metadata": {},
   "outputs": [],
   "source": [
    "## Define the labels\n",
    "\n",
    "\n",
    "## Add the labels\n",
    "plt.hist(norm_dist, bins=50, histtype='stepfilled', density=True, alpha=0.7)\n",
    "\n",
    "for i in range(len(norm_dist)) :\n",
    "    plt.axvline(np.mean(norm_dist[i]), color='C%d' % (i))\n",
    "    \n",
    "plt.title('Normal Distributions\\n($N=$%d, $n_{k}=$%d)' % (len(norm_dist), len(norm_dist[0])))\n",
    "plt.xlabel('Value')\n",
    "plt.ylabel('Density')\n",
    "\n",
    "## Show the legend and place it outside\n",
    "\n",
    "    \n",
    "plt.show()"
   ]
  },
  {
   "cell_type": "markdown",
   "metadata": {},
   "source": [
    "## Figure and Subplots\n",
    "Ressource: https://matplotlib.org/3.2.1/api/_as_gen/matplotlib.pyplot.subplots.html\n",
    "\n",
    "```plt.subplots(nrows, ncols, figsize, sharex, sharey)```"
   ]
  },
  {
   "cell_type": "code",
   "execution_count": null,
   "metadata": {},
   "outputs": [],
   "source": [
    "N = len(x_scatter)\n",
    "fig, ax = plt.subplots(len(x_scatter), len(y_scatter), figsize=(12, 9), sharex='row', sharey='row')\n",
    "\n",
    "### First row: scatter plot of FC vs. SC\n",
    "\n",
    "    \n",
    "### Second row: plot distribution of first component w/ mean\n",
    "\n",
    "### Third row: plot distribution of second component w/ mean\n",
    "\n",
    "\n",
    "plt.tight_layout()\n",
    "plt.show()"
   ]
  },
  {
   "cell_type": "markdown",
   "metadata": {},
   "source": [
    "Here's an example if we plot the datasets column-wise rather than row-wise. This visualization can be very helpful when comparing various datasets."
   ]
  },
  {
   "cell_type": "code",
   "execution_count": null,
   "metadata": {},
   "outputs": [],
   "source": [
    "N = len(x_scatter)\n",
    "fig, ax = plt.subplots(len(x_scatter), len(y_scatter), figsize=(12, 9), sharex='col', sharey='col')\n",
    "\n",
    "### First col: scatter plot of FC vs. SC\n",
    "c = 0\n",
    "\n",
    "for r in range(N) :\n",
    "    ax[r][c].scatter(x_scatter[r], y_scatter[r], color='C%d' % (r))\n",
    "    ax[r][c].set_xlabel('First Component')\n",
    "    ax[r][c].set_ylabel('Second Component')\n",
    "    ax[r][c].set_title('Dataset %s' % r)\n",
    "    \n",
    "### Second col: plot distribution of first component w/ mean\n",
    "c = 1\n",
    "\n",
    "for r in range(N) :\n",
    "    ax[r][c].hist(x_scatter[r], bins=20, histtype='stepfilled', density=True, color='C%d' % (r))\n",
    "    ax[r][c].axvline(np.mean(x_scatter[r]), ls='-', color='k')\n",
    "    ax[r][c].set_xlabel('First Component')\n",
    "    ax[r][c].set_ylabel('Density')\n",
    "    \n",
    "### Third col: plot distribution of second component w/ mean\n",
    "c = 2\n",
    "\n",
    "for r in range(N) :\n",
    "    ax[r][c].hist(y_scatter[r], bins=20, histtype='stepfilled', density=True, color='C%d' % (r))\n",
    "    ax[r][c].axvline(np.mean(y_scatter[r]), ls='-', color='k')\n",
    "    ax[r][c].set_xlabel('Second Component')\n",
    "    ax[r][c].set_ylabel('Density')\n",
    "\n",
    "plt.tight_layout()\n",
    "plt.show()"
   ]
  },
  {
   "cell_type": "markdown",
   "metadata": {},
   "source": [
    "## Plotting the Iris Dataset (example)"
   ]
  },
  {
   "cell_type": "code",
   "execution_count": null,
   "metadata": {},
   "outputs": [],
   "source": [
    "## Import scikit learn library\n",
    "from sklearn import datasets\n",
    "from sklearn.decomposition import PCA"
   ]
  },
  {
   "cell_type": "code",
   "execution_count": null,
   "metadata": {},
   "outputs": [],
   "source": [
    "## Import the iris dataset\n",
    "iris = datasets.load_iris()\n",
    "names = iris.target_names\n",
    "feature = iris.feature_names\n",
    "target = iris.target"
   ]
  },
  {
   "cell_type": "code",
   "execution_count": null,
   "metadata": {},
   "outputs": [],
   "source": [
    "X_reduced = PCA(n_components=len(feature)).fit_transform(iris.data)"
   ]
  },
  {
   "cell_type": "code",
   "execution_count": null,
   "metadata": {},
   "outputs": [],
   "source": [
    "fig, ax = plt.subplots(1, 6, figsize=(24, 4))\n",
    "\n",
    "for i in range(len(target)) :\n",
    "    tg = target[i]\n",
    "    tmp = X_reduced[i]\n",
    "    \n",
    "    ax[0].scatter(tmp[0], tmp[1], color='C%d' % (tg), label=names[tg])\n",
    "    ax[1].scatter(tmp[0], tmp[2], color='C%d' % (tg))\n",
    "    ax[2].scatter(tmp[0], tmp[3], color='C%d' % (tg))\n",
    "    ax[3].scatter(tmp[1], tmp[2], color='C%d' % (tg))\n",
    "    ax[4].scatter(tmp[1], tmp[3], color='C%d' % (tg))\n",
    "    ax[5].scatter(tmp[2], tmp[3], color='C%d' % (tg))\n",
    "    \n",
    "ax[0].set_xlabel('PC1')\n",
    "ax[0].set_ylabel('PC2')\n",
    "\n",
    "ax[1].set_xlabel('PC1')\n",
    "ax[1].set_ylabel('PC3')\n",
    "\n",
    "ax[2].set_xlabel('PC1')\n",
    "ax[2].set_ylabel('PC4')\n",
    "\n",
    "ax[3].set_xlabel('PC2')\n",
    "ax[3].set_ylabel('PC3')\n",
    "\n",
    "ax[4].set_xlabel('PC2')\n",
    "ax[4].set_ylabel('PC4')\n",
    "\n",
    "ax[5].set_xlabel('PC3')\n",
    "ax[5].set_ylabel('PC4')\n",
    "\n",
    "ax[0].legend()\n",
    "\n",
    "plt.tight_layout()\n",
    "plt.show()"
   ]
  },
  {
   "cell_type": "code",
   "execution_count": null,
   "metadata": {},
   "outputs": [],
   "source": []
  }
 ],
 "metadata": {
  "kernelspec": {
   "display_name": "Python 3",
   "language": "python",
   "name": "python3"
  },
  "language_info": {
   "codemirror_mode": {
    "name": "ipython",
    "version": 3
   },
   "file_extension": ".py",
   "mimetype": "text/x-python",
   "name": "python",
   "nbconvert_exporter": "python",
   "pygments_lexer": "ipython3",
   "version": "3.7.4"
  }
 },
 "nbformat": 4,
 "nbformat_minor": 2
}
